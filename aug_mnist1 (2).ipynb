{
  "cells": [
    {
      "cell_type": "code",
      "execution_count": null,
      "metadata": {
        "id": "C_Rdo8L75nZe"
      },
      "outputs": [],
      "source": [
        "import torch\n",
        "import torch.nn as nn\n",
        "import torch.nn.functional as F\n",
        "import torch.utils.data\n",
        "import numpy as np\n",
        "import matplotlib.pyplot as plt\n",
        "from torch.optim.lr_scheduler import StepLR, MultiStepLR"
      ]
    },
    {
      "cell_type": "code",
      "execution_count": null,
      "metadata": {
        "id": "P6gXzl8k5qIj"
      },
      "outputs": [],
      "source": [
        "from sklearn.datasets import fetch_openml\n",
        "X, y = fetch_openml('mnist_784', version=1, return_X_y=True, as_frame=False)\n",
        "X = X/255\n",
        "y = y.astype(int)"
      ]
    },
    {
      "cell_type": "code",
      "execution_count": null,
      "metadata": {
        "id": "3RA2EJamCXzY"
      },
      "outputs": [],
      "source": [
        "X_train, X_test, y_train, y_test = X[:60000], X[60000:], y[:60000], y[60000:]"
      ]
    },
    {
      "cell_type": "code",
      "execution_count": null,
      "metadata": {
        "id": "XeMiAh_45szp"
      },
      "outputs": [],
      "source": [
        "import cv2\n",
        "from random import choice\n",
        "def f1(image):\n",
        "    sobel_x = cv2.Sobel(image, cv2.CV_64F, 1, 0, ksize=3)\n",
        "    sobel_y = cv2.Sobel(image, cv2.CV_64F, 0, 1, ksize=3)\n",
        "    return sobel_x, sobel_y\n",
        "def f2(image):\n",
        "  z = choice([1,2,3,4,5,-1,-2,-3,-4,-5])\n",
        "  center = (14, 14)\n",
        "  M = cv2.getRotationMatrix2D(center, 12*z, 1.0)\n",
        "  return cv2.warpAffine(image, M, (28, 28))"
      ]
    },
    {
      "cell_type": "code",
      "execution_count": null,
      "metadata": {
        "id": "X6t8kbaEDFc6"
      },
      "outputs": [],
      "source": [
        "x = X_train.reshape(X_train.shape[0],28,28)\n",
        "p = [f2(x[0])]\n",
        "h = [y_train[0]]\n",
        "ch=0\n",
        "for i in range(3, 60000, 3):\n",
        "  v = f2(x[i])\n",
        "  v1 = y_train[i]\n",
        "  p.append(v)\n",
        "  h.append(v1)\n",
        "  if ch%10000==0:\n",
        "    print(ch, len(p), len(h))\n",
        "  ch+=1\n",
        "p = np.array(p)\n",
        "h = np.array(h)\n",
        "p.shape, h.shape"
      ]
    },
    {
      "cell_type": "code",
      "execution_count": null,
      "metadata": {
        "id": "zxGr70e0LGOp"
      },
      "outputs": [],
      "source": [
        "def shuf(u1, u2):\n",
        "  rm = np.arange(u1.shape[0])\n",
        "  np.random.shuffle(rm)\n",
        "  return (u1[rm], u2[rm])"
      ]
    },
    {
      "cell_type": "code",
      "execution_count": null,
      "metadata": {
        "id": "ImAXlD6EEh0A"
      },
      "outputs": [],
      "source": [
        "X_train = np.concat([X_train, p.reshape(p.shape[0], 784)], axis=0)\n",
        "y_train = np.concat([y_train, h], axis=0)\n",
        "X_train, y_train = shuf(X_train, y_train)\n",
        "print(X_train.shape, y_train.shape)"
      ]
    },
    {
      "cell_type": "code",
      "execution_count": null,
      "metadata": {
        "id": "yqdrIX-G5y-f"
      },
      "outputs": [],
      "source": [
        "x = X_train.reshape(X_train.shape[0],28,28)\n",
        "#x = f1(x)[0]\n",
        "u=45\n",
        "plt.subplot(1, 2, 1)\n",
        "plt.imshow(x[u], cmap=\"Greys\")\n",
        "plt.subplot(1, 2, 2)\n",
        "plt.imshow(f2(x[u]), cmap=\"Greys\")\n"
      ]
    },
    {
      "cell_type": "code",
      "execution_count": null,
      "metadata": {
        "id": "rrbsGWxy5sDI"
      },
      "outputs": [],
      "source": [
        "plt.figure(figsize=(6,6))\n",
        "for i in range(10):\n",
        "  plt.subplot(1, 10, i+1)\n",
        "  plt.imshow(X_train[i].reshape(28, 28), cmap=\"Greys\")\n",
        "plt.show()"
      ]
    },
    {
      "cell_type": "code",
      "execution_count": null,
      "metadata": {
        "id": "Z4bZ8WIGWJGb"
      },
      "outputs": [],
      "source": [
        "nn1 = 80\n",
        "nn2 = 108\n",
        "nn3 = 156\n",
        "nn4 = 244\n",
        "nn5 = 319\n",
        "nn6 = 435\n",
        "nn7 = 2000\n",
        "nn8 = 500\n",
        "nc = 10\n",
        "lr = 0.0001\n",
        "bs=64\n",
        "dev = \"cuda\"\n",
        "ep=50"
      ]
    },
    {
      "cell_type": "code",
      "execution_count": null,
      "metadata": {
        "id": "-GMnPkHFWD56"
      },
      "outputs": [],
      "source": [
        "train_dset = torch.utils.data.TensorDataset(torch.from_numpy(X_train).float(), torch.from_numpy(y_train).long())\n",
        "train_loader =  torch.utils.data.DataLoader(train_dset, batch_size=bs)\n",
        "test_dset = torch.utils.data.TensorDataset(torch.from_numpy(X_test).float(), torch.from_numpy(y_test).long())\n",
        "test_loader =  torch.utils.data.DataLoader(test_dset, batch_size=bs)"
      ]
    },
    {
      "cell_type": "code",
      "execution_count": null,
      "metadata": {
        "id": "JZFZewIZX5d6"
      },
      "outputs": [],
      "source": [
        "class FCN(nn.Module):\n",
        "  def __init__(self):\n",
        "    super(FCN, self).__init__()\n",
        "    self.cc1 = nn.Conv2d(1, nn1, 5)\n",
        "    self.bn1 = nn.BatchNorm2d(nn1)\n",
        "    self.cc2 = nn.Conv2d(nn1, nn2, 5)\n",
        "    self.bn2 = nn.BatchNorm2d(nn2)\n",
        "    self.cc3 = nn.Conv2d(nn2, nn3, 5)\n",
        "    self.bn3 = nn.BatchNorm2d(nn3)\n",
        "    self.cc4 = nn.Conv2d(nn3, nn4, 5)\n",
        "    self.bn4 = nn.BatchNorm2d(nn4)\n",
        "    self.cc5 = nn.Conv2d(nn4, nn5, 3)\n",
        "    self.bn5 = nn.BatchNorm2d(nn5)\n",
        "    self.cc6 = nn.Conv2d(nn5, nn6, 3)\n",
        "    self.bn6 = nn.BatchNorm2d(nn6)\n",
        "    self.fc1 = nn.Linear(27840, nn7)\n",
        "    self.bn7 = nn.BatchNorm1d(nn7)\n",
        "    self.fc2 = nn.Linear(nn7, nn8)\n",
        "    self.bn8 = nn.BatchNorm1d(nn8)\n",
        "    self.fc3 = nn.Linear(nn8, nc)\n",
        "\n",
        "  def forward(self, x):\n",
        "    z1 = F.relu(self.bn1(self.cc1(x)))\n",
        "    z2 = F.relu(self.bn2(self.cc2(z1)))\n",
        "    z3 = F.relu(self.bn3(self.cc3(z2)))\n",
        "    z4 = F.relu(self.bn4(self.cc4(z3)))\n",
        "    z5 = F.relu(self.bn5(self.cc5(z4)))\n",
        "    z6 = F.relu(self.bn6(self.cc6(z5)))\n",
        "    #print(z6.shape)\n",
        "    z6 = nn.Flatten()(z6)\n",
        "    #print(z6.shape)\n",
        "    z7 = F.dropout(F.relu(self.bn7(self.fc1(z6))), p=0.5)\n",
        "    z8 = F.relu(self.bn8(self.fc2(z7)))\n",
        "    z9 = self.fc3(z8)\n",
        "    return z9"
      ]
    },
    {
      "cell_type": "code",
      "execution_count": null,
      "metadata": {
        "id": "fsT_S6IWX6rb"
      },
      "outputs": [],
      "source": [
        "net = FCN()\n",
        "net.to(dev)"
      ]
    },
    {
      "cell_type": "code",
      "execution_count": null,
      "metadata": {
        "id": "rZ8jIubEYEUe"
      },
      "outputs": [],
      "source": [
        "crit = nn.CrossEntropyLoss()\n",
        "opt = torch.optim.Adam(net.parameters(), lr=lr)\n",
        "scheduler = MultiStepLR(opt, milestones=[6, 15, 40], gamma=0.1)"
      ]
    },
    {
      "cell_type": "code",
      "execution_count": null,
      "metadata": {
        "id": "oSwgWB9QOFiY"
      },
      "outputs": [],
      "source": [
        "def vl():\n",
        "  net.eval()\n",
        "  with torch.no_grad():\n",
        "    cur, tot = 0, 0\n",
        "    for a, b in test_loader:\n",
        "      a = a.to(dev)\n",
        "      b = b.to(dev)\n",
        "      a = a.reshape(a.shape[0], 1, 28, 28)\n",
        "      out = net(a)\n",
        "      _, pred = torch.max(out, dim=1)\n",
        "      tot+=b.shape[0]\n",
        "      cur+=(pred==b).sum().item()\n",
        "    print('accuracy:', cur/tot)"
      ]
    },
    {
      "cell_type": "code",
      "execution_count": null,
      "metadata": {
        "colab": {
          "base_uri": "https://localhost:8080/",
          "height": 220
        },
        "id": "UC8dDT9oYP1f",
        "outputId": "e03a12d1-fa61-40f6-d941-575ff9dfeb51"
      },
      "outputs": [
        {
          "output_type": "error",
          "ename": "NameError",
          "evalue": "name 'train_loader' is not defined",
          "traceback": [
            "\u001b[0;31m---------------------------------------------------------------------------\u001b[0m",
            "\u001b[0;31mNameError\u001b[0m                                 Traceback (most recent call last)",
            "\u001b[0;32m<ipython-input-1-9e63264d0311>\u001b[0m in \u001b[0;36m<cell line: 0>\u001b[0;34m()\u001b[0m\n\u001b[1;32m      1\u001b[0m \u001b[0mq\u001b[0m \u001b[0;34m=\u001b[0m \u001b[0;34m[\u001b[0m\u001b[0;34m]\u001b[0m\u001b[0;34m\u001b[0m\u001b[0;34m\u001b[0m\u001b[0m\n\u001b[0;32m----> 2\u001b[0;31m \u001b[0mtot\u001b[0m \u001b[0;34m=\u001b[0m \u001b[0mlen\u001b[0m\u001b[0;34m(\u001b[0m\u001b[0mtrain_loader\u001b[0m\u001b[0;34m)\u001b[0m\u001b[0;34m\u001b[0m\u001b[0;34m\u001b[0m\u001b[0m\n\u001b[0m\u001b[1;32m      3\u001b[0m \u001b[0;32mfor\u001b[0m \u001b[0mi\u001b[0m \u001b[0;32min\u001b[0m \u001b[0mrange\u001b[0m\u001b[0;34m(\u001b[0m\u001b[0mep\u001b[0m\u001b[0;34m)\u001b[0m\u001b[0;34m:\u001b[0m\u001b[0;34m\u001b[0m\u001b[0;34m\u001b[0m\u001b[0m\n\u001b[1;32m      4\u001b[0m     \u001b[0mnet\u001b[0m\u001b[0;34m.\u001b[0m\u001b[0mtrain\u001b[0m\u001b[0;34m(\u001b[0m\u001b[0;34m)\u001b[0m\u001b[0;34m\u001b[0m\u001b[0;34m\u001b[0m\u001b[0m\n\u001b[1;32m      5\u001b[0m     \u001b[0;32mfor\u001b[0m \u001b[0mj\u001b[0m\u001b[0;34m,\u001b[0m \u001b[0;34m(\u001b[0m\u001b[0ma\u001b[0m\u001b[0;34m,\u001b[0m \u001b[0mb\u001b[0m\u001b[0;34m)\u001b[0m \u001b[0;32min\u001b[0m \u001b[0menumerate\u001b[0m\u001b[0;34m(\u001b[0m\u001b[0mtrain_loader\u001b[0m\u001b[0;34m)\u001b[0m\u001b[0;34m:\u001b[0m\u001b[0;34m\u001b[0m\u001b[0;34m\u001b[0m\u001b[0m\n",
            "\u001b[0;31mNameError\u001b[0m: name 'train_loader' is not defined"
          ]
        }
      ],
      "source": [
        "q = []\n",
        "tot = len(train_loader)\n",
        "for i in range(ep):\n",
        "    net.train()\n",
        "    for j, (a, b) in enumerate(train_loader):\n",
        "      a = a.to(dev)\n",
        "      b = b.to(dev)\n",
        "      #print(a.shape)\n",
        "      a = a.reshape(a.shape[0], 1, 28, 28)\n",
        "      #print(a.shape, a[0])\n",
        "      out = net(a)\n",
        "      loss = crit(out, b)\n",
        "      opt.zero_grad()\n",
        "      loss.backward()\n",
        "      opt.step()\n",
        "      if(j+1)%200==0:\n",
        "        q.append(loss.item())\n",
        "        print('Epoch {}/{} Step {}/{} LossL{:.4f}'.format(i+1, ep, j+1, tot, loss.item()))\n",
        "    scheduler.step()\n",
        "    vl()\n",
        "plt.scatter(range(len(q)), q, s=3, c='black')"
      ]
    },
    {
      "cell_type": "code",
      "execution_count": null,
      "metadata": {
        "id": "3qhbobzrYRsC"
      },
      "outputs": [],
      "source": [
        "net.eval()\n",
        "with torch.no_grad():\n",
        "  cur, tot = 0, 0\n",
        "  for a, b in test_loader:\n",
        "    a = a.to(dev)\n",
        "    b = b.to(dev)\n",
        "    a = a.reshape(a.shape[0], 1, 28, 28)\n",
        "    out = net(a)\n",
        "    _, pred = torch.max(out, dim=1)\n",
        "    tot+=b.shape[0]\n",
        "    cur+=(pred==b).sum().item()\n",
        "  print('accuracy:', cur/tot)"
      ]
    },
    {
      "cell_type": "code",
      "execution_count": null,
      "metadata": {
        "id": "qkrp8jDb8Z3I"
      },
      "outputs": [],
      "source": [
        "torch.save(net.state_dict(), 'n1.pth')"
      ]
    },
    {
      "cell_type": "code",
      "execution_count": null,
      "metadata": {
        "id": "YQ5Pvs24GGXR"
      },
      "outputs": [],
      "source": [
        "from google.colab import files\n",
        "files.download('/content/cfm1.pth')"
      ]
    }
  ],
  "metadata": {
    "accelerator": "GPU",
    "colab": {
      "gpuType": "T4",
      "provenance": []
    },
    "kernelspec": {
      "display_name": "Python 3",
      "name": "python3"
    },
    "language_info": {
      "name": "python"
    }
  },
  "nbformat": 4,
  "nbformat_minor": 0
}